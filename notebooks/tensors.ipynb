{
 "cells": [
  {
   "cell_type": "code",
   "execution_count": 1,
   "id": "353560f6-65d7-408b-bdea-8652cbf48fc3",
   "metadata": {},
   "outputs": [],
   "source": [
    "%load_ext autoreload"
   ]
  },
  {
   "cell_type": "code",
   "execution_count": 2,
   "id": "3dca06d3-ecfa-4b14-b8b2-c54d2ae4bc5a",
   "metadata": {},
   "outputs": [],
   "source": [
    "%autoreload 2"
   ]
  },
  {
   "cell_type": "markdown",
   "id": "fc3f714f-a4e1-4427-abfc-ac190189e0bf",
   "metadata": {},
   "source": [
    "# Testing Tensor class"
   ]
  },
  {
   "cell_type": "code",
   "execution_count": 5,
   "id": "f1568093-575c-47ac-b5d4-24f0c69745e4",
   "metadata": {},
   "outputs": [],
   "source": [
    "import numpy as np\n",
    "import matplotlib.pyplot as plt\n",
    "\n",
    "import autodiff.elemental_functions as F\n",
    "\n",
    "from autodiff.tensor import Tensor"
   ]
  },
  {
   "cell_type": "code",
   "execution_count": 6,
   "id": "70eca761-c483-4856-b393-70ddbacda8f8",
   "metadata": {},
   "outputs": [],
   "source": [
    "x = Tensor([1, 2, 3])"
   ]
  },
  {
   "cell_type": "code",
   "execution_count": 7,
   "id": "fd5d3dc5-6b70-4ebf-aa00-02bd18fd8ee9",
   "metadata": {},
   "outputs": [
    {
     "name": "stdout",
     "output_type": "stream",
     "text": [
      "array([1, 2, 3])\n"
     ]
    }
   ],
   "source": [
    "print(x)"
   ]
  },
  {
   "cell_type": "code",
   "execution_count": 8,
   "id": "ff6bb468-ff93-4f66-b459-3b03a269ddef",
   "metadata": {},
   "outputs": [],
   "source": [
    "y = Tensor([9, 8 , 7])"
   ]
  },
  {
   "cell_type": "markdown",
   "id": "54f88f65-e3e5-4407-8ecc-43666103b932",
   "metadata": {},
   "source": [
    "# arithmetic"
   ]
  },
  {
   "cell_type": "code",
   "execution_count": 9,
   "id": "3e638185-e607-48f9-ba47-5357f6508118",
   "metadata": {},
   "outputs": [
    {
     "data": {
      "text/plain": [
       "array([10, 10, 10])"
      ]
     },
     "execution_count": 9,
     "metadata": {},
     "output_type": "execute_result"
    }
   ],
   "source": [
    "x + y"
   ]
  },
  {
   "cell_type": "code",
   "execution_count": 10,
   "id": "27b5f005-fcd4-42a8-bb9e-a9610ace8b60",
   "metadata": {},
   "outputs": [
    {
     "data": {
      "text/plain": [
       "array([-8, -6, -4])"
      ]
     },
     "execution_count": 10,
     "metadata": {},
     "output_type": "execute_result"
    }
   ],
   "source": [
    "x - y"
   ]
  },
  {
   "cell_type": "code",
   "execution_count": 11,
   "id": "bf154fb7-4c75-4cbf-8c07-1f04c2b66259",
   "metadata": {},
   "outputs": [],
   "source": [
    "z = Tensor(2)"
   ]
  },
  {
   "cell_type": "markdown",
   "id": "a05d7593-43d6-45a3-ac2c-4448d134f99e",
   "metadata": {},
   "source": [
    "# reverse mode AD"
   ]
  },
  {
   "cell_type": "code",
   "execution_count": 12,
   "id": "634b57e0-43b5-4113-b1d9-74d69b979451",
   "metadata": {},
   "outputs": [
    {
     "data": {
      "text/plain": [
       "(array(2), array(5))"
      ]
     },
     "execution_count": 12,
     "metadata": {},
     "output_type": "execute_result"
    }
   ],
   "source": [
    "x1 = Tensor(2)\n",
    "x2 = Tensor(5)\n",
    "\n",
    "x1, x2"
   ]
  },
  {
   "cell_type": "code",
   "execution_count": 13,
   "id": "09b52bd6-a0a1-4fc8-9b44-dd81310b1532",
   "metadata": {},
   "outputs": [
    {
     "data": {
      "text/plain": [
       "array(11.65207146)"
      ]
     },
     "execution_count": 13,
     "metadata": {},
     "output_type": "execute_result"
    }
   ],
   "source": [
    "y = F.subtract(F.add(F.log(x1), F.multiply(x1, x2)), F.sin(x2))\n",
    "y"
   ]
  },
  {
   "cell_type": "code",
   "execution_count": 14,
   "id": "f03ab1ee-33cd-4bab-9b1f-5b177809a2e6",
   "metadata": {},
   "outputs": [],
   "source": [
    "y.backward()"
   ]
  },
  {
   "cell_type": "code",
   "execution_count": 15,
   "id": "afc3e5e9-6898-48b0-97b2-5c48b41b00bd",
   "metadata": {},
   "outputs": [
    {
     "data": {
      "text/plain": [
       "(5.5, 1.7163378145367738)"
      ]
     },
     "execution_count": 15,
     "metadata": {},
     "output_type": "execute_result"
    }
   ],
   "source": [
    "x1.gradient, x2.gradient"
   ]
  },
  {
   "cell_type": "markdown",
   "id": "227da129-0c20-4047-a37a-97d7a4d1ea25",
   "metadata": {},
   "source": [
    "## power"
   ]
  },
  {
   "cell_type": "markdown",
   "id": "db14b289-8542-4192-87b8-fc748cf7e058",
   "metadata": {},
   "source": [
    "The derivate of $x^2$ should be $2x$"
   ]
  },
  {
   "cell_type": "code",
   "execution_count": 16,
   "id": "f22963be-4f4c-4873-b734-2d38d3b32422",
   "metadata": {},
   "outputs": [],
   "source": [
    "x1 = Tensor([0 ,1 ,2, 3, 4, 5])"
   ]
  },
  {
   "cell_type": "code",
   "execution_count": 17,
   "id": "3f93f484-d513-4781-89a1-b267743e745c",
   "metadata": {},
   "outputs": [
    {
     "data": {
      "text/plain": [
       "array([ 0,  1,  4,  9, 16, 25])"
      ]
     },
     "execution_count": 17,
     "metadata": {},
     "output_type": "execute_result"
    }
   ],
   "source": [
    "y = F.pow(x1, n=2)\n",
    "y.backward()\n",
    "\n",
    "y"
   ]
  },
  {
   "cell_type": "code",
   "execution_count": 18,
   "id": "e2198c0e-3878-48e8-a9e9-79864c435bca",
   "metadata": {},
   "outputs": [
    {
     "data": {
      "text/plain": [
       "array([ 0,  2,  4,  6,  8, 10])"
      ]
     },
     "execution_count": 18,
     "metadata": {},
     "output_type": "execute_result"
    }
   ],
   "source": [
    "x1.gradient"
   ]
  },
  {
   "cell_type": "code",
   "execution_count": 19,
   "id": "a4b40aed-4b3f-4e72-a734-80a006815c00",
   "metadata": {},
   "outputs": [
    {
     "data": {
      "text/plain": [
       "Text(0.5, 1.0, 'derivative')"
      ]
     },
     "execution_count": 19,
     "metadata": {},
     "output_type": "execute_result"
    },
    {
     "data": {
      "image/png": "[encoded data removed]",
      "text/plain": [
       "<Figure size 640x480 with 2 Axes>"
      ]
     },
     "metadata": {},
     "output_type": "display_data"
    }
   ],
   "source": [
    "fig, (ax1, ax2) = plt.subplots(ncols=2)\n",
    "ax1.plot(x1.value, y.value)\n",
    "ax2.plot(x1.value, x1.gradient)\n",
    "\n",
    "ax1.set_title('function')\n",
    "ax2.set_title('derivative')"
   ]
  },
  {
   "cell_type": "markdown",
   "id": "41d0c992-2842-47d5-8282-de6333c66522",
   "metadata": {},
   "source": [
    "## sin"
   ]
  },
  {
   "cell_type": "markdown",
   "id": "928fbb11-cd20-4f05-8ad0-c3b57815ce13",
   "metadata": {},
   "source": [
    "The derivative of $\\sin(x)$ should be $\\cos(x)$"
   ]
  },
  {
   "cell_type": "code",
   "execution_count": 21,
   "id": "32b70a54-d6d2-4dbb-98d8-21f6c810e412",
   "metadata": {},
   "outputs": [],
   "source": [
    "x1 = Tensor(np.pi * np.linspace(-2, 2))"
   ]
  },
  {
   "cell_type": "code",
   "execution_count": 22,
   "id": "b06b1e1b-3991-471e-b538-dcb0fb11f607",
   "metadata": {},
   "outputs": [],
   "source": [
    "y = F.sin(x1)\n",
    "y.backward()"
   ]
  },
  {
   "cell_type": "code",
   "execution_count": 24,
   "id": "2c69bd05-bd05-481a-9925-4d3ed3a52b32",
   "metadata": {},
   "outputs": [
    {
     "data": {
      "text/plain": [
       "Text(0.5, 1.0, 'derivative')"
      ]
     },
     "execution_count": 24,
     "metadata": {},
     "output_type": "execute_result"
    },
    {
     "data": {
      "image/png": "[encoded data removed]",
      "text/plain": [
       "<Figure size 640x480 with 2 Axes>"
      ]
     },
     "metadata": {},
     "output_type": "display_data"
    }
   ],
   "source": [
    "fig, (ax1, ax2) = plt.subplots(ncols=2)\n",
    "ax1.plot(x1.value, y.value)\n",
    "ax2.plot(x1.value, x1.gradient)\n",
    "\n",
    "ax1.grid()\n",
    "ax2.grid()\n",
    "\n",
    "ax1.set_title('function')\n",
    "ax2.set_title('derivative')"
   ]
  },
  {
   "cell_type": "markdown",
   "id": "fac7e7ce-b0e0-4fd1-81ba-4df58c930076",
   "metadata": {},
   "source": [
    "## neural network"
   ]
  },
  {
   "cell_type": "code",
   "execution_count": 96,
   "id": "eded13e2-577a-47db-9adc-af1bb41f2224",
   "metadata": {},
   "outputs": [],
   "source": [
    "data = Tensor(np.array([[0, 0], [0, 1], [1, 0], [1, 1]]).T)\n",
    "target = Tensor(np.array([0, 1, 0, 1]))"
   ]
  },
  {
   "cell_type": "code",
   "execution_count": 97,
   "id": "be592589-06f2-469c-9270-af7edef20344",
   "metadata": {},
   "outputs": [
    {
     "data": {
      "text/plain": [
       "array([[0, 0, 1, 1],\n",
       "       [0, 1, 0, 1]])"
      ]
     },
     "execution_count": 97,
     "metadata": {},
     "output_type": "execute_result"
    }
   ],
   "source": [
    "data"
   ]
  },
  {
   "cell_type": "code",
   "execution_count": 98,
   "id": "47270dac-7415-4ec4-958a-8acf14e5869d",
   "metadata": {},
   "outputs": [],
   "source": [
    "w = []\n",
    "w.append(Tensor(np.random.rand(3, 2)))\n",
    "w.append(Tensor(np.random.rand(1, 3)))"
   ]
  },
  {
   "cell_type": "code",
   "execution_count": 99,
   "id": "0e77ca29-856e-47e9-a54c-078425a34c83",
   "metadata": {},
   "outputs": [],
   "source": [
    "import pdb"
   ]
  },
  {
   "cell_type": "code",
   "execution_count": 104,
   "id": "ed346db0-9612-465e-a006-5fa129ed9a19",
   "metadata": {},
   "outputs": [],
   "source": [
    "for i in range(10):\n",
    "    l1 = F.mm(w[0], data)\n",
    "    pred = F.mm(w[1], l1)\n",
    "\n",
    "    loss = F.subtract(pred, target)\n",
    "    loss = F.mm(loss)\n",
    "    pass"
   ]
  },
  {
   "cell_type": "code",
   "execution_count": 110,
   "id": "e11b7224-595a-42bc-8d6e-48c4070f73a1",
   "metadata": {},
   "outputs": [
    {
     "data": {
      "text/plain": [
       "[(array([[0.81899173, 0.72370889],\n",
       "         [0.66187743, 0.23558586],\n",
       "         [0.3862387 , 0.72521346]]),\n",
       "  array([[0, 0, 1, 1],\n",
       "         [0, 1, 0, 1]])),\n",
       " (array([[0, 0, 1, 1],\n",
       "         [0, 1, 0, 1]]),\n",
       "  array([[0.81899173, 0.72370889],\n",
       "         [0.66187743, 0.23558586],\n",
       "         [0.3862387 , 0.72521346]]))]"
      ]
     },
     "execution_count": 110,
     "metadata": {},
     "output_type": "execute_result"
    }
   ],
   "source": [
    "l1.adjoints"
   ]
  },
  {
   "cell_type": "code",
   "execution_count": 108,
   "id": "625a9ddf-232b-4091-9698-897d168f20d3",
   "metadata": {},
   "outputs": [
    {
     "data": {
      "text/plain": [
       "(array([[0.        , 1.14927036, 1.14451405, 2.29378442]]),\n",
       " array([0, 1, 0, 1]))"
      ]
     },
     "execution_count": 108,
     "metadata": {},
     "output_type": "execute_result"
    }
   ],
   "source": [
    "pred, target"
   ]
  }
 ],
 "metadata": {
  "kernelspec": {
   "display_name": "Python 3 (ipykernel)",
   "language": "python",
   "name": "python3"
  },
  "language_info": {
   "codemirror_mode": {
    "name": "ipython",
    "version": 3
   },
   "file_extension": ".py",
   "mimetype": "text/x-python",
   "name": "python",
   "nbconvert_exporter": "python",
   "pygments_lexer": "ipython3",
   "version": "3.10.13"
  }
 },
 "nbformat": 4,
 "nbformat_minor": 5
}

{
 "cells": [
  {
   "cell_type": "markdown",
   "id": "3d39a59e-cb52-44e6-a52c-5bbfe476a7bc",
   "metadata": {},
   "source": [
    "# Test Autograd with Tensors"
   ]
  },
  {
   "cell_type": "code",
   "execution_count": 1,
   "id": "d8afa388-e13f-4bca-99cd-6f536443af3c",
   "metadata": {},
   "outputs": [],
   "source": [
    "%load_ext autoreload"
   ]
  },
  {
   "cell_type": "code",
   "execution_count": 37,
   "id": "bda3c35b-8460-497e-8d80-7dfef314f94a",
   "metadata": {},
   "outputs": [],
   "source": [
    "%autoreload 2"
   ]
  },
  {
   "cell_type": "code",
   "execution_count": 198,
   "id": "746013d9-2391-4e9d-b5a7-c8a03c6e4743",
   "metadata": {},
   "outputs": [],
   "source": [
    "import numpy as np\n",
    "\n",
    "from autodiff.tensor import Tensor"
   ]
  },
  {
   "cell_type": "code",
   "execution_count": 379,
   "id": "71400adb-5819-4ecd-8c88-0c9ea46dbc61",
   "metadata": {},
   "outputs": [],
   "source": [
    "# base tensors\n",
    "a = Tensor([1, 2, 3, 4, 5], autograd=True)\n",
    "b = Tensor([2, 2, 2, 2, 2], autograd=True)\n",
    "c = Tensor([5, 4, 3, 2, 1], autograd=True)"
   ]
  },
  {
   "cell_type": "code",
   "execution_count": 380,
   "id": "c7e73ac8-7ab4-4006-be36-553424553747",
   "metadata": {},
   "outputs": [
    {
     "data": {
      "text/plain": [
       "(array([1, 2, 3, 4, 5]), array([2, 2, 2, 2, 2]), array([5, 4, 3, 2, 1]))"
      ]
     },
     "execution_count": 380,
     "metadata": {},
     "output_type": "execute_result"
    }
   ],
   "source": [
    "a, b, c"
   ]
  },
  {
   "cell_type": "code",
   "execution_count": 381,
   "id": "a9fba85b-3f91-493e-b7e2-167a262417d6",
   "metadata": {},
   "outputs": [],
   "source": [
    "# composite operations\n",
    "d = a + b\n",
    "e = b + c\n",
    "f = d + e"
   ]
  },
  {
   "cell_type": "code",
   "execution_count": 382,
   "id": "1215e748-6b50-40a4-8664-123f00cae1c3",
   "metadata": {},
   "outputs": [
    {
     "data": {
      "text/plain": [
       "(array([3, 4, 5, 6, 7]), array([7, 6, 5, 4, 3]), array([10, 10, 10, 10, 10]))"
      ]
     },
     "execution_count": 382,
     "metadata": {},
     "output_type": "execute_result"
    }
   ],
   "source": [
    "d, e, f"
   ]
  },
  {
   "cell_type": "code",
   "execution_count": 383,
   "id": "06e68e0a-efc8-40b5-94c9-371962a7a6a7",
   "metadata": {},
   "outputs": [],
   "source": [
    "# f.backward(Tensor([1, 1, 1, 1, 1]))\n",
    "f.backward()"
   ]
  },
  {
   "cell_type": "code",
   "execution_count": 384,
   "id": "7cc9e9c2-6755-4976-ba53-98689375fb56",
   "metadata": {},
   "outputs": [
    {
     "data": {
      "text/plain": [
       "array([1, 1, 1, 1, 1])"
      ]
     },
     "execution_count": 384,
     "metadata": {},
     "output_type": "execute_result"
    }
   ],
   "source": [
    "a.grad.data"
   ]
  },
  {
   "cell_type": "code",
   "execution_count": 385,
   "id": "17e66013-7300-41fe-abac-e3362f695b38",
   "metadata": {},
   "outputs": [
    {
     "data": {
      "text/plain": [
       "array([2, 2, 2, 2, 2])"
      ]
     },
     "execution_count": 385,
     "metadata": {},
     "output_type": "execute_result"
    }
   ],
   "source": [
    "b.grad.data"
   ]
  },
  {
   "cell_type": "code",
   "execution_count": 261,
   "id": "b941fd7a-691d-4d84-b8df-1adccf8de846",
   "metadata": {},
   "outputs": [],
   "source": [
    "a.gra"
   ]
  }
 ],
 "metadata": {
  "kernelspec": {
   "display_name": "Python 3 (ipykernel)",
   "language": "python",
   "name": "python3"
  },
  "language_info": {
   "codemirror_mode": {
    "name": "ipython",
    "version": 3
   },
   "file_extension": ".py",
   "mimetype": "text/x-python",
   "name": "python",
   "nbconvert_exporter": "python",
   "pygments_lexer": "ipython3",
   "version": "3.10.13"
  }
 },
 "nbformat": 4,
 "nbformat_minor": 5
}

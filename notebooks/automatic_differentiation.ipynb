{
 "cells": [
  {
   "cell_type": "markdown",
   "id": "3d39a59e-cb52-44e6-a52c-5bbfe476a7bc",
   "metadata": {},
   "source": [
    "# Test Autograd with Tensors"
   ]
  },
  {
   "cell_type": "code",
   "execution_count": 5,
   "id": "d8afa388-e13f-4bca-99cd-6f536443af3c",
   "metadata": {},
   "outputs": [
    {
     "name": "stdout",
     "output_type": "stream",
     "text": [
      "The autoreload extension is already loaded. To reload it, use:\n",
      "  %reload_ext autoreload\n"
     ]
    }
   ],
   "source": [
    "%load_ext autoreload"
   ]
  },
  {
   "cell_type": "code",
   "execution_count": 6,
   "id": "bda3c35b-8460-497e-8d80-7dfef314f94a",
   "metadata": {},
   "outputs": [],
   "source": [
    "%autoreload 2"
   ]
  },
  {
   "cell_type": "code",
   "execution_count": 15,
   "id": "746013d9-2391-4e9d-b5a7-c8a03c6e4743",
   "metadata": {},
   "outputs": [],
   "source": [
    "import numpy as np\n",
    "\n",
    "from autodiff.tensor import Tensor"
   ]
  },
  {
   "cell_type": "markdown",
   "id": "57e25fa0-8528-4153-ac7b-99d980d8590d",
   "metadata": {},
   "source": [
    "## case 1"
   ]
  },
  {
   "cell_type": "code",
   "execution_count": 32,
   "id": "71400adb-5819-4ecd-8c88-0c9ea46dbc61",
   "metadata": {},
   "outputs": [],
   "source": [
    "# base tensors\n",
    "a = Tensor([1, 2, 3, 4, 5], autograd=True)\n",
    "b = Tensor([2, 2, 2, 2, 2], autograd=True)\n",
    "c = Tensor([5, 4, 3, 2, 1], autograd=True)"
   ]
  },
  {
   "cell_type": "code",
   "execution_count": 33,
   "id": "c7e73ac8-7ab4-4006-be36-553424553747",
   "metadata": {},
   "outputs": [
    {
     "data": {
      "text/plain": [
       "(array([1, 2, 3, 4, 5]), array([2, 2, 2, 2, 2]), array([5, 4, 3, 2, 1]))"
      ]
     },
     "execution_count": 33,
     "metadata": {},
     "output_type": "execute_result"
    }
   ],
   "source": [
    "a, b, c"
   ]
  },
  {
   "cell_type": "code",
   "execution_count": 34,
   "id": "a9fba85b-3f91-493e-b7e2-167a262417d6",
   "metadata": {},
   "outputs": [],
   "source": [
    "# composite operations\n",
    "d = a + b\n",
    "e = b + c\n",
    "f = d + e"
   ]
  },
  {
   "cell_type": "code",
   "execution_count": 35,
   "id": "1215e748-6b50-40a4-8664-123f00cae1c3",
   "metadata": {},
   "outputs": [
    {
     "data": {
      "text/plain": [
       "(array([3, 4, 5, 6, 7]), array([7, 6, 5, 4, 3]), array([10, 10, 10, 10, 10]))"
      ]
     },
     "execution_count": 35,
     "metadata": {},
     "output_type": "execute_result"
    }
   ],
   "source": [
    "d, e, f"
   ]
  },
  {
   "cell_type": "code",
   "execution_count": 36,
   "id": "06e68e0a-efc8-40b5-94c9-371962a7a6a7",
   "metadata": {},
   "outputs": [],
   "source": [
    "# f.backward(Tensor([1, 1, 1, 1, 1]))\n",
    "f.backward()"
   ]
  },
  {
   "cell_type": "code",
   "execution_count": 37,
   "id": "7cc9e9c2-6755-4976-ba53-98689375fb56",
   "metadata": {},
   "outputs": [
    {
     "data": {
      "text/plain": [
       "array([1, 1, 1, 1, 1])"
      ]
     },
     "execution_count": 37,
     "metadata": {},
     "output_type": "execute_result"
    }
   ],
   "source": [
    "a.grad.data"
   ]
  },
  {
   "cell_type": "code",
   "execution_count": 38,
   "id": "3fb66faf-9d74-4cb6-812a-5d35b9956daf",
   "metadata": {},
   "outputs": [
    {
     "data": {
      "text/plain": [
       "array([2, 2, 2, 2, 2])"
      ]
     },
     "execution_count": 38,
     "metadata": {},
     "output_type": "execute_result"
    }
   ],
   "source": [
    "b.grad.data"
   ]
  },
  {
   "cell_type": "markdown",
   "id": "3b9e6c01-40d6-4fd6-b3b6-cf6b2dae81e1",
   "metadata": {},
   "source": [
    "## case 2"
   ]
  },
  {
   "cell_type": "code",
   "execution_count": 39,
   "id": "edb77a46-f181-4c48-b368-36e5d9e665ba",
   "metadata": {},
   "outputs": [],
   "source": [
    "# base tensors\n",
    "a = Tensor([1, 2, 3, 4, 5], autograd=True)\n",
    "b = Tensor([2, 2, 2, 2, 2], autograd=True)\n",
    "c = Tensor([5, 4, 3, 2, 1], autograd=True)"
   ]
  },
  {
   "cell_type": "code",
   "execution_count": 40,
   "id": "8ef24bea-479c-43fc-971d-f9e1c54a062c",
   "metadata": {},
   "outputs": [
    {
     "data": {
      "text/plain": [
       "(array([1, 2, 3, 4, 5]), array([2, 2, 2, 2, 2]), array([5, 4, 3, 2, 1]))"
      ]
     },
     "execution_count": 40,
     "metadata": {},
     "output_type": "execute_result"
    }
   ],
   "source": [
    "a, b, c"
   ]
  },
  {
   "cell_type": "code",
   "execution_count": 41,
   "id": "e7e96f78-b561-43fb-a354-7cbf7f74e539",
   "metadata": {},
   "outputs": [],
   "source": [
    "# composite operations\n",
    "d = a + -b\n",
    "e = -b + c\n",
    "f = d + e"
   ]
  },
  {
   "cell_type": "code",
   "execution_count": 42,
   "id": "87600737-157d-499d-bc8a-947680f21eaf",
   "metadata": {},
   "outputs": [
    {
     "data": {
      "text/plain": [
       "(array([-1,  0,  1,  2,  3]),\n",
       " array([ 3,  2,  1,  0, -1]),\n",
       " array([2, 2, 2, 2, 2]))"
      ]
     },
     "execution_count": 42,
     "metadata": {},
     "output_type": "execute_result"
    }
   ],
   "source": [
    "d, e, f"
   ]
  },
  {
   "cell_type": "code",
   "execution_count": 43,
   "id": "3e32babc-cdb3-4059-83e5-52789cbadc10",
   "metadata": {},
   "outputs": [],
   "source": [
    "# f.backward(Tensor([1, 1, 1, 1, 1]))\n",
    "f.backward()"
   ]
  },
  {
   "cell_type": "code",
   "execution_count": 44,
   "id": "235215b5-54d6-4000-836b-3c24560baef5",
   "metadata": {},
   "outputs": [
    {
     "data": {
      "text/plain": [
       "array([1, 1, 1, 1, 1])"
      ]
     },
     "execution_count": 44,
     "metadata": {},
     "output_type": "execute_result"
    }
   ],
   "source": [
    "a.grad.data"
   ]
  },
  {
   "cell_type": "code",
   "execution_count": 45,
   "id": "5b70edda-734f-4587-adcf-3d5f8e015ed9",
   "metadata": {},
   "outputs": [
    {
     "data": {
      "text/plain": [
       "array([-2, -2, -2, -2, -2])"
      ]
     },
     "execution_count": 45,
     "metadata": {},
     "output_type": "execute_result"
    }
   ],
   "source": [
    "b.grad.data"
   ]
  },
  {
   "cell_type": "markdown",
   "id": "e1aba264-0ff7-45f6-8ee0-e85b8ace2920",
   "metadata": {},
   "source": [
    "# Neural Network"
   ]
  },
  {
   "cell_type": "code",
   "execution_count": 46,
   "id": "6f275a87-a969-4371-92a4-3539fb7531dc",
   "metadata": {},
   "outputs": [],
   "source": [
    "np.random.seed(3301)"
   ]
  },
  {
   "cell_type": "code",
   "execution_count": 48,
   "id": "79571286-b7c2-4d58-9d5b-0bdd8db09a3c",
   "metadata": {},
   "outputs": [],
   "source": [
    "data = Tensor(np.array([[0, 0], [0, 1], [1, 0], [1, 1]]), autograd=True)\n",
    "target = Tensor(np.array([[0], [1], [0], [1]]), autograd=True)"
   ]
  },
  {
   "cell_type": "code",
   "execution_count": 49,
   "id": "f9b25a43-892b-474f-a362-f6773efd21db",
   "metadata": {},
   "outputs": [],
   "source": [
    "w = []\n",
    "w.append(Tensor(np.random.rand(2, 3), autograd=True))\n",
    "w.append(Tensor(np.random.rand(3, 1), autograd=True))"
   ]
  },
  {
   "cell_type": "code",
   "execution_count": null,
   "id": "0055877b-e2c0-4fdf-84f2-d1d082874b66",
   "metadata": {},
   "outputs": [],
   "source": [
    "for i in range(10):\n",
    "    pred = data.mm(w[0]).mm(w[1])\n",
    "\n",
    "    loss ((pred - target)*(pred - target)).sum(0)\n",
    "\n",
    "    loss.ackward(Tensor(np.ones_like(loss.data)))\n",
    "    for w_ in w:\n",
    "        w_.data -= w_.grad.data * 0.1\n",
    "        w_.data *= 0\n",
    "\n",
    "    print(loss)"
   ]
  },
  {
   "cell_type": "code",
   "execution_count": null,
   "id": "fedf64a2-ad3e-4cbf-949e-6c3b8cbb4166",
   "metadata": {},
   "outputs": [],
   "source": []
  },
  {
   "cell_type": "code",
   "execution_count": null,
   "id": "339efaef-66d8-448b-b461-cbe1b26b985c",
   "metadata": {},
   "outputs": [],
   "source": []
  }
 ],
 "metadata": {
  "kernelspec": {
   "display_name": "Python 3 (ipykernel)",
   "language": "python",
   "name": "python3"
  },
  "language_info": {
   "codemirror_mode": {
    "name": "ipython",
    "version": 3
   },
   "file_extension": ".py",
   "mimetype": "text/x-python",
   "name": "python",
   "nbconvert_exporter": "python",
   "pygments_lexer": "ipython3",
   "version": "3.10.13"
  }
 },
 "nbformat": 4,
 "nbformat_minor": 5
}

{
 "cells": [
  {
   "cell_type": "code",
   "execution_count": 1,
   "id": "e62a32c8-548b-46dd-8bfc-aa4f79ecf992",
   "metadata": {},
   "outputs": [],
   "source": [
    "%load_ext autoreload"
   ]
  },
  {
   "cell_type": "code",
   "execution_count": 35,
   "id": "02eab836-8e2a-48d3-a5cb-f1375f15bc58",
   "metadata": {
    "tags": []
   },
   "outputs": [],
   "source": [
    "import autodiff.dual_numbers as ad\n",
    "import numpy as np\n",
    "import matplotlib.pyplot as plt"
   ]
  },
  {
   "cell_type": "code",
   "execution_count": 7,
   "id": "64a68ba3-c8c6-4a45-8a18-03dae38553bc",
   "metadata": {},
   "outputs": [],
   "source": [
    "%autoreload now"
   ]
  },
  {
   "cell_type": "code",
   "execution_count": 26,
   "id": "fa5f2067-bba3-4573-8376-c583f9f6ecc9",
   "metadata": {
    "tags": []
   },
   "outputs": [],
   "source": [
    "x = ad.DualNumber(2, 3)\n",
    "y = ad.DualNumber(4, 6)"
   ]
  },
  {
   "cell_type": "code",
   "execution_count": 27,
   "id": "d83756e7-2816-4146-b32f-8122bba6e14e",
   "metadata": {
    "tags": []
   },
   "outputs": [
    {
     "data": {
      "text/plain": [
       "(2, 3)"
      ]
     },
     "execution_count": 27,
     "metadata": {},
     "output_type": "execute_result"
    }
   ],
   "source": [
    "x"
   ]
  },
  {
   "cell_type": "code",
   "execution_count": 28,
   "id": "d9a12ed8-ce71-404d-b2f4-f78d4b3386b2",
   "metadata": {
    "tags": []
   },
   "outputs": [
    {
     "data": {
      "text/plain": [
       "(6, 9)"
      ]
     },
     "execution_count": 28,
     "metadata": {},
     "output_type": "execute_result"
    }
   ],
   "source": [
    "x + y"
   ]
  },
  {
   "cell_type": "code",
   "execution_count": 29,
   "id": "bb470396-82bf-412b-8930-965c5b52bcf9",
   "metadata": {
    "tags": []
   },
   "outputs": [
    {
     "data": {
      "text/plain": [
       "(2, 3)"
      ]
     },
     "execution_count": 29,
     "metadata": {},
     "output_type": "execute_result"
    }
   ],
   "source": [
    "x - y"
   ]
  },
  {
   "cell_type": "code",
   "execution_count": 30,
   "id": "3a2db9a6-0038-4e8d-88c3-4e5cae4da354",
   "metadata": {
    "tags": []
   },
   "outputs": [
    {
     "data": {
      "text/plain": [
       "(8, 24)"
      ]
     },
     "execution_count": 30,
     "metadata": {},
     "output_type": "execute_result"
    }
   ],
   "source": [
    "x * y"
   ]
  },
  {
   "cell_type": "code",
   "execution_count": 31,
   "id": "89c9f8f3-e409-4832-a30c-bc13a3731625",
   "metadata": {
    "tags": []
   },
   "outputs": [
    {
     "data": {
      "text/plain": [
       "(0.6931471805599453, 1.5)"
      ]
     },
     "execution_count": 31,
     "metadata": {},
     "output_type": "execute_result"
    }
   ],
   "source": [
    "ad.log(x)"
   ]
  },
  {
   "cell_type": "code",
   "execution_count": 32,
   "id": "d85ef0ce-ec16-4c4b-ab49-65798b616bbf",
   "metadata": {
    "tags": []
   },
   "outputs": [
    {
     "data": {
      "text/plain": [
       "((2, 1), (5, 0))"
      ]
     },
     "execution_count": 32,
     "metadata": {},
     "output_type": "execute_result"
    }
   ],
   "source": [
    "x1 = ad.DualNumber(2, 1)\n",
    "x2 = ad.DualNumber(5, 0)\n",
    "x1, x2"
   ]
  },
  {
   "cell_type": "code",
   "execution_count": 33,
   "id": "1cc0f3f0-acc7-4b83-b010-f848065b4bd3",
   "metadata": {
    "tags": []
   },
   "outputs": [
    {
     "data": {
      "text/plain": [
       "(-11.652071455223084, -5.5)"
      ]
     },
     "execution_count": 33,
     "metadata": {},
     "output_type": "execute_result"
    }
   ],
   "source": [
    "ad.log(x1) + x1 * x2 - ad.sin(x2)"
   ]
  },
  {
   "cell_type": "code",
   "execution_count": 40,
   "id": "17fc60a1-4966-46fb-9b0f-e15a5df5ec01",
   "metadata": {
    "tags": []
   },
   "outputs": [
    {
     "data": {
      "text/plain": [
       "array([-3.14159265, -3.01336438, -2.88513611, -2.75690784, -2.62867957,\n",
       "       -2.5004513 , -2.37222302, -2.24399475, -2.11576648, -1.98753821,\n",
       "       -1.85930994, -1.73108167, -1.60285339, -1.47462512, -1.34639685,\n",
       "       -1.21816858, -1.08994031, -0.96171204, -0.83348377, -0.70525549,\n",
       "       -0.57702722, -0.44879895, -0.32057068, -0.19234241, -0.06411414,\n",
       "        0.06411414,  0.19234241,  0.32057068,  0.44879895,  0.57702722,\n",
       "        0.70525549,  0.83348377,  0.96171204,  1.08994031,  1.21816858,\n",
       "        1.34639685,  1.47462512,  1.60285339,  1.73108167,  1.85930994,\n",
       "        1.98753821,  2.11576648,  2.24399475,  2.37222302,  2.5004513 ,\n",
       "        2.62867957,  2.75690784,  2.88513611,  3.01336438,  3.14159265])"
      ]
     },
     "execution_count": 40,
     "metadata": {},
     "output_type": "execute_result"
    }
   ],
   "source": [
    "t = np.linspace(-0.5, .5) * 2 * np.pi\n",
    "t"
   ]
  },
  {
   "cell_type": "code",
   "execution_count": 43,
   "id": "98a0f25c-a508-463d-a6f7-4371a9a24ee1",
   "metadata": {
    "tags": []
   },
   "outputs": [],
   "source": [
    "dual_t = ad.DualNumber(t, np.ones_like(t))"
   ]
  },
  {
   "cell_type": "code",
   "execution_count": 45,
   "id": "7ea8e908-4690-4830-8a63-4778acd81a31",
   "metadata": {
    "tags": []
   },
   "outputs": [
    {
     "data": {
      "text/plain": [
       "([-3.14159265 -3.01336438 -2.88513611 -2.75690784 -2.62867957 -2.5004513\n",
       " -2.37222302 -2.24399475 -2.11576648 -1.98753821 -1.85930994 -1.73108167\n",
       " -1.60285339 -1.47462512 -1.34639685 -1.21816858 -1.08994031 -0.96171204\n",
       " -0.83348377 -0.70525549 -0.57702722 -0.44879895 -0.32057068 -0.19234241\n",
       " -0.06411414  0.06411414  0.19234241  0.32057068  0.44879895  0.57702722\n",
       "  0.70525549  0.83348377  0.96171204  1.08994031  1.21816858  1.34639685\n",
       "  1.47462512  1.60285339  1.73108167  1.85930994  1.98753821  2.11576648\n",
       "  2.24399475  2.37222302  2.5004513   2.62867957  2.75690784  2.88513611\n",
       "  3.01336438  3.14159265], [1. 1. 1. 1. 1. 1. 1. 1. 1. 1. 1. 1. 1. 1. 1. 1. 1. 1. 1. 1. 1. 1. 1. 1.\n",
       " 1. 1. 1. 1. 1. 1. 1. 1. 1. 1. 1. 1. 1. 1. 1. 1. 1. 1. 1. 1. 1. 1. 1. 1.\n",
       " 1. 1.])"
      ]
     },
     "execution_count": 45,
     "metadata": {},
     "output_type": "execute_result"
    }
   ],
   "source": [
    "dual_t"
   ]
  },
  {
   "cell_type": "code",
   "execution_count": 49,
   "id": "3aeb3bb2-e0b0-4d0c-b60a-53d7665e4fc8",
   "metadata": {
    "tags": []
   },
   "outputs": [],
   "source": [
    "y = ad.sin(dual_t)"
   ]
  },
  {
   "cell_type": "code",
   "execution_count": 57,
   "id": "667561fd-91c4-4a67-a8a1-b82ffb48b907",
   "metadata": {
    "tags": []
   },
   "outputs": [
    {
     "data": {
      "text/plain": [
       "<matplotlib.legend.Legend at 0x7fda18b02dd0>"
      ]
     },
     "execution_count": 57,
     "metadata": {},
     "output_type": "execute_result"
    },
    {
     "data": {
      "image/png": "[encoded data removed]",
      "text/plain": [
       "<Figure size 800x600 with 1 Axes>"
      ]
     },
     "metadata": {},
     "output_type": "display_data"
    }
   ],
   "source": [
    "fig, ax = plt.subplots(figsize=(8, 6))\n",
    "ax.plot(t, y.x, label='sin(x)')\n",
    "ax.plot(t, y.y, label='cos(x)')\n",
    "\n",
    "ax.set_xlabel('t')\n",
    "ax.set_ylabel('f(t)')\n",
    "\n",
    "ax.grid()\n",
    "\n",
    "ax.legend()"
   ]
  },
  {
   "cell_type": "code",
   "execution_count": 59,
   "id": "801c8d50-d00e-40f9-9bf6-bd4cd1f9f398",
   "metadata": {
    "tags": []
   },
   "outputs": [
    {
     "ename": "TypeError",
     "evalue": "unsupported operand type(s) for ** or pow(): 'DualNumber' and 'int'",
     "output_type": "error",
     "traceback": [
      "\u001b[0;31m---------------------------------------------------------------------------\u001b[0m",
      "\u001b[0;31mTypeError\u001b[0m                                 Traceback (most recent call last)",
      "Cell \u001b[0;32mIn[59], line 1\u001b[0m\n\u001b[0;32m----> 1\u001b[0m \u001b[43mx\u001b[49m\u001b[43m \u001b[49m\u001b[38;5;241;43m*\u001b[39;49m\u001b[38;5;241;43m*\u001b[39;49m\u001b[43m \u001b[49m\u001b[38;5;241;43m2\u001b[39;49m\n",
      "\u001b[0;31mTypeError\u001b[0m: unsupported operand type(s) for ** or pow(): 'DualNumber' and 'int'"
     ]
    }
   ],
   "source": [
    "x ** 2"
   ]
  }
 ],
 "metadata": {
  "kernelspec": {
   "display_name": "Python 3 (ipykernel)",
   "language": "python",
   "name": "python3"
  },
  "language_info": {
   "codemirror_mode": {
    "name": "ipython",
    "version": 3
   },
   "file_extension": ".py",
   "mimetype": "text/x-python",
   "name": "python",
   "nbconvert_exporter": "python",
   "pygments_lexer": "ipython3",
   "version": "3.10.12"
  }
 },
 "nbformat": 4,
 "nbformat_minor": 5
}

{
 "cells": [
  {
   "cell_type": "code",
   "execution_count": 142,
   "id": "338d342d-f957-49e7-af1e-795c7d0ddf30",
   "metadata": {
    "tags": []
   },
   "outputs": [
    {
     "name": "stdout",
     "output_type": "stream",
     "text": [
      "The autoreload extension is already loaded. To reload it, use:\n",
      "  %reload_ext autoreload\n"
     ]
    }
   ],
   "source": [
    "%load_ext autoreload"
   ]
  },
  {
   "cell_type": "code",
   "execution_count": 505,
   "id": "e3d4a635-ec03-48c0-b13a-957895413d88",
   "metadata": {
    "tags": []
   },
   "outputs": [],
   "source": [
    "import autodiff.reverse_mode as rm\n",
    "import autodiff.elemental_functions as f\n",
    "import numpy as np"
   ]
  },
  {
   "cell_type": "code",
   "execution_count": 504,
   "id": "aa951e20-9182-4951-8586-b7ccc248ac12",
   "metadata": {
    "tags": []
   },
   "outputs": [],
   "source": [
    "%autoreload now"
   ]
  },
  {
   "cell_type": "code",
   "execution_count": 507,
   "id": "966160dc-9a20-489d-b284-179921971014",
   "metadata": {
    "tags": []
   },
   "outputs": [],
   "source": [
    "x1 = rm.Variable(2)\n",
    "x2 = rm.Variable(3)\n",
    "\n",
    "z3 = f.multiply(x1, x2)\n",
    "\n",
    "y = f.log(z3)\n",
    "y.grad()"
   ]
  },
  {
   "cell_type": "code",
   "execution_count": 509,
   "id": "376bfe34-60ed-4cf1-ad0b-af0198089361",
   "metadata": {
    "tags": []
   },
   "outputs": [
    {
     "data": {
      "text/plain": [
       "[(<autodiff.reverse_mode.Variable at 0x7fce788c4c70>, 3),\n",
       " (<autodiff.reverse_mode.Variable at 0x7fce788c5b70>, 2)]"
      ]
     },
     "execution_count": 509,
     "metadata": {},
     "output_type": "execute_result"
    }
   ],
   "source": [
    "z3.adjoints"
   ]
  },
  {
   "cell_type": "code",
   "execution_count": 510,
   "id": "93d78d9a-f3db-4e24-8a5c-f8366e32e954",
   "metadata": {
    "tags": []
   },
   "outputs": [
    {
     "data": {
      "text/plain": [
       "(0.5, 0.3333333333333333)"
      ]
     },
     "execution_count": 510,
     "metadata": {},
     "output_type": "execute_result"
    }
   ],
   "source": [
    "x1.gradient, x2.gradient"
   ]
  },
  {
   "cell_type": "markdown",
   "id": "7443a627-357d-40c0-81ad-7d432a79f548",
   "metadata": {},
   "source": [
    "## example 2 (paper)"
   ]
  },
  {
   "cell_type": "code",
   "execution_count": 511,
   "id": "196da68e-686f-4fd6-8cbe-cb236b737ec5",
   "metadata": {
    "tags": []
   },
   "outputs": [],
   "source": [
    "x1 = rm.Variable(2)\n",
    "x2 = rm.Variable(5)"
   ]
  },
  {
   "cell_type": "code",
   "execution_count": 513,
   "id": "1cf97a3a-d713-4940-95ce-3a7212c88171",
   "metadata": {
    "tags": []
   },
   "outputs": [
    {
     "name": "stdout",
     "output_type": "stream",
     "text": [
      "0.6931471805599453 10 -0.9589242746631385\n"
     ]
    }
   ],
   "source": [
    "# forward prop\n",
    "v1 = f.log(x1)\n",
    "v2 = f.multiply(x1, x2)\n",
    "v3 = f.sin(x2)\n",
    "\n",
    "print(v1.value, v2.value, v3.value)"
   ]
  },
  {
   "cell_type": "code",
   "execution_count": 514,
   "id": "b477abc1-b6cf-4cf3-9a87-26698974aded",
   "metadata": {
    "tags": []
   },
   "outputs": [
    {
     "name": "stdout",
     "output_type": "stream",
     "text": [
      "10.693147180559945 11.652071455223084\n"
     ]
    }
   ],
   "source": [
    "v4 = f.add(v1, v2)\n",
    "y = f.subtract(v4, v3)\n",
    "\n",
    "print(v4.value, y.value)"
   ]
  },
  {
   "cell_type": "code",
   "execution_count": 515,
   "id": "5aa930d7-b4e5-45f9-a463-09fd3067b69c",
   "metadata": {
    "tags": []
   },
   "outputs": [],
   "source": [
    "y.grad()"
   ]
  },
  {
   "cell_type": "code",
   "execution_count": 516,
   "id": "37bffc8c-fdec-41f9-9ffc-b3e2b73fece1",
   "metadata": {
    "tags": []
   },
   "outputs": [
    {
     "data": {
      "text/plain": [
       "1.0"
      ]
     },
     "execution_count": 516,
     "metadata": {},
     "output_type": "execute_result"
    }
   ],
   "source": [
    "v4.gradient"
   ]
  },
  {
   "cell_type": "code",
   "execution_count": 517,
   "id": "aa4cc498-e4aa-405d-b7d0-14cf672b9871",
   "metadata": {
    "tags": []
   },
   "outputs": [
    {
     "data": {
      "text/plain": [
       "-1.0"
      ]
     },
     "execution_count": 517,
     "metadata": {},
     "output_type": "execute_result"
    }
   ],
   "source": [
    "v3.gradient"
   ]
  },
  {
   "cell_type": "code",
   "execution_count": 518,
   "id": "ba429b4a-e777-403d-b856-c8c7a9b7f719",
   "metadata": {
    "tags": []
   },
   "outputs": [
    {
     "data": {
      "text/plain": [
       "1.0"
      ]
     },
     "execution_count": 518,
     "metadata": {},
     "output_type": "execute_result"
    }
   ],
   "source": [
    "v1.gradient"
   ]
  },
  {
   "cell_type": "code",
   "execution_count": 519,
   "id": "68e3f36e-5b10-4d31-a08a-e0026b9a2dbd",
   "metadata": {
    "tags": []
   },
   "outputs": [
    {
     "data": {
      "text/plain": [
       "1.0"
      ]
     },
     "execution_count": 519,
     "metadata": {},
     "output_type": "execute_result"
    }
   ],
   "source": [
    "v2.gradient"
   ]
  },
  {
   "cell_type": "code",
   "execution_count": 520,
   "id": "ab9359e8-35c4-4638-bc3f-41a06e984848",
   "metadata": {
    "tags": []
   },
   "outputs": [
    {
     "data": {
      "text/plain": [
       "5.5"
      ]
     },
     "execution_count": 520,
     "metadata": {},
     "output_type": "execute_result"
    }
   ],
   "source": [
    "x1.gradient"
   ]
  },
  {
   "cell_type": "code",
   "execution_count": 521,
   "id": "673edb73-bdfb-43d9-aa31-12a81b77c784",
   "metadata": {
    "tags": []
   },
   "outputs": [
    {
     "data": {
      "text/plain": [
       "1.7163378145367738"
      ]
     },
     "execution_count": 521,
     "metadata": {},
     "output_type": "execute_result"
    }
   ],
   "source": [
    "x2.gradient"
   ]
  },
  {
   "cell_type": "markdown",
   "id": "8a30d887-9260-4a4a-af9f-80a663877c0e",
   "metadata": {
    "tags": []
   },
   "source": [
    "# with arrays"
   ]
  },
  {
   "cell_type": "code",
   "execution_count": 522,
   "id": "13173127-e46f-4e75-bc10-aa2558c1fb28",
   "metadata": {
    "tags": []
   },
   "outputs": [],
   "source": [
    "x1 = rm.Variable(np.array([1, 2, 3]))\n",
    "x2 = rm.Variable(np.array([2, 5, 4]))"
   ]
  },
  {
   "cell_type": "code",
   "execution_count": 524,
   "id": "124770d5-422a-47eb-9142-6a28b122cd01",
   "metadata": {
    "tags": []
   },
   "outputs": [
    {
     "name": "stdout",
     "output_type": "stream",
     "text": [
      "[0.         0.69314718 1.09861229] [ 2 10 12] [ 0.90929743 -0.95892427 -0.7568025 ]\n"
     ]
    }
   ],
   "source": [
    "# forward prop\n",
    "v1 = f.log(x1)\n",
    "v2 = f.multiply(x1, x2)\n",
    "v3 = f.sin(x2)\n",
    "\n",
    "print(v1.value, v2.value, v3.value)"
   ]
  },
  {
   "cell_type": "code",
   "execution_count": 525,
   "id": "39a25ebe-440e-4350-848e-7cbcdc302f33",
   "metadata": {
    "tags": []
   },
   "outputs": [
    {
     "name": "stdout",
     "output_type": "stream",
     "text": [
      "[ 2.         10.69314718 13.09861229] [ 1.09070257 11.65207146 13.85541478]\n"
     ]
    }
   ],
   "source": [
    "v4 = f.add(v1, v2)\n",
    "y = f.subtract(v4, v3)\n",
    "\n",
    "print(v4.value, y.value)"
   ]
  },
  {
   "cell_type": "code",
   "execution_count": 526,
   "id": "46d93e34-5add-414c-a071-e7fc32c5349c",
   "metadata": {
    "tags": []
   },
   "outputs": [],
   "source": [
    "y.grad()"
   ]
  },
  {
   "cell_type": "code",
   "execution_count": 527,
   "id": "b30c3fe8-bfdb-4ab7-8fcc-a17b3102da85",
   "metadata": {
    "tags": []
   },
   "outputs": [
    {
     "data": {
      "text/plain": [
       "array([3.        , 5.5       , 4.33333333])"
      ]
     },
     "execution_count": 527,
     "metadata": {},
     "output_type": "execute_result"
    }
   ],
   "source": [
    "x1.gradient"
   ]
  },
  {
   "cell_type": "code",
   "execution_count": null,
   "id": "18111d19-b4df-4dfa-8fc3-936f0a5dda9b",
   "metadata": {},
   "outputs": [],
   "source": [
    "x2.gradient"
   ]
  }
 ],
 "metadata": {
  "kernelspec": {
   "display_name": "Python 3 (ipykernel)",
   "language": "python",
   "name": "python3"
  },
  "language_info": {
   "codemirror_mode": {
    "name": "ipython",
    "version": 3
   },
   "file_extension": ".py",
   "mimetype": "text/x-python",
   "name": "python",
   "nbconvert_exporter": "python",
   "pygments_lexer": "ipython3",
   "version": "3.10.12"
  }
 },
 "nbformat": 4,
 "nbformat_minor": 5
}

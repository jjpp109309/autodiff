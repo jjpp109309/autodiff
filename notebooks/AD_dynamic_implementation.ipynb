{
 "cells": [
  {
   "cell_type": "code",
   "execution_count": 1,
   "id": "03d386a6-661c-4861-9681-2bb542f67343",
   "metadata": {},
   "outputs": [],
   "source": [
    "%load_ext autoreload"
   ]
  },
  {
   "cell_type": "code",
   "execution_count": 2,
   "id": "5441bfb6-a37a-4df3-bbaa-4aef437f4e3a",
   "metadata": {},
   "outputs": [],
   "source": [
    "%autoreload 2"
   ]
  },
  {
   "cell_type": "code",
   "execution_count": 56,
   "id": "db53ab6d-165c-4271-b302-75887fdda3c0",
   "metadata": {},
   "outputs": [],
   "source": [
    "from autodiff.tensor import Variable"
   ]
  },
  {
   "cell_type": "code",
   "execution_count": 62,
   "id": "61f743a9-7758-4d8e-80a3-d40acb4769ff",
   "metadata": {},
   "outputs": [],
   "source": [
    "x = Variable(4)\n",
    "y = Variable(2)\n",
    "z = x * y"
   ]
  },
  {
   "cell_type": "code",
   "execution_count": 63,
   "id": "c32e8048-e8e0-4b21-a153-61d9ec690c67",
   "metadata": {},
   "outputs": [
    {
     "data": {
      "text/plain": [
       "(8, [(2, 4), (4, 2)])"
      ]
     },
     "execution_count": 63,
     "metadata": {},
     "output_type": "execute_result"
    }
   ],
   "source": [
    "z, z.children"
   ]
  },
  {
   "cell_type": "code",
   "execution_count": 64,
   "id": "a1153116-e0a1-491a-ac84-7b828a8dcaf2",
   "metadata": {},
   "outputs": [],
   "source": [
    "z.grad()"
   ]
  },
  {
   "cell_type": "code",
   "execution_count": 65,
   "id": "301993b3-ffd5-4587-8025-3991347109fc",
   "metadata": {},
   "outputs": [
    {
     "data": {
      "text/plain": [
       "(2, 4)"
      ]
     },
     "execution_count": 65,
     "metadata": {},
     "output_type": "execute_result"
    }
   ],
   "source": [
    "x.gradient, y.gradient"
   ]
  },
  {
   "cell_type": "code",
   "execution_count": null,
   "id": "bcb7a202-7d31-4471-bb42-6fcd9eb6d6eb",
   "metadata": {},
   "outputs": [],
   "source": []
  }
 ],
 "metadata": {
  "kernelspec": {
   "display_name": "Python 3 (ipykernel)",
   "language": "python",
   "name": "python3"
  },
  "language_info": {
   "codemirror_mode": {
    "name": "ipython",
    "version": 3
   },
   "file_extension": ".py",
   "mimetype": "text/x-python",
   "name": "python",
   "nbconvert_exporter": "python",
   "pygments_lexer": "ipython3",
   "version": "3.10.13"
  }
 },
 "nbformat": 4,
 "nbformat_minor": 5
}

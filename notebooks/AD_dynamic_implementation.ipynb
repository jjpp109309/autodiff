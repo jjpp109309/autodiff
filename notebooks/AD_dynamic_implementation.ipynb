{
 "cells": [
  {
   "cell_type": "code",
   "execution_count": 1,
   "id": "03d386a6-661c-4861-9681-2bb542f67343",
   "metadata": {},
   "outputs": [],
   "source": [
    "%load_ext autoreload"
   ]
  },
  {
   "cell_type": "code",
   "execution_count": 2,
   "id": "5441bfb6-a37a-4df3-bbaa-4aef437f4e3a",
   "metadata": {},
   "outputs": [],
   "source": [
    "%autoreload 2"
   ]
  },
  {
   "cell_type": "code",
   "execution_count": 4,
   "id": "db53ab6d-165c-4271-b302-75887fdda3c0",
   "metadata": {},
   "outputs": [],
   "source": [
    "from autodiff.tensor import Variable"
   ]
  },
  {
   "cell_type": "code",
   "execution_count": 21,
   "id": "61f743a9-7758-4d8e-80a3-d40acb4769ff",
   "metadata": {},
   "outputs": [],
   "source": [
    "x = Variable(4)\n",
    "y = Variable(2)\n",
    "z = x * y"
   ]
  },
  {
   "cell_type": "code",
   "execution_count": 22,
   "id": "c32e8048-e8e0-4b21-a153-61d9ec690c67",
   "metadata": {},
   "outputs": [
    {
     "data": {
      "text/plain": [
       "(8, [(2, 8)], [(4, 8)])"
      ]
     },
     "execution_count": 22,
     "metadata": {},
     "output_type": "execute_result"
    }
   ],
   "source": [
    "z, x.children, y.children"
   ]
  },
  {
   "cell_type": "code",
   "execution_count": 23,
   "id": "d0f4f05a-880e-4ff9-9872-20ada04a4e7d",
   "metadata": {},
   "outputs": [],
   "source": [
    "z.grad_value = 1"
   ]
  },
  {
   "cell_type": "code",
   "execution_count": 24,
   "id": "e1a9b8d0-9b31-455e-a8b6-9522a57324ac",
   "metadata": {},
   "outputs": [
    {
     "data": {
      "text/plain": [
       "2"
      ]
     },
     "execution_count": 24,
     "metadata": {},
     "output_type": "execute_result"
    }
   ],
   "source": [
    "x.grad()"
   ]
  },
  {
   "cell_type": "code",
   "execution_count": null,
   "id": "767deb64-38f8-4a9a-8ad5-4eeecf909256",
   "metadata": {},
   "outputs": [],
   "source": [
    "y.grad()"
   ]
  }
 ],
 "metadata": {
  "kernelspec": {
   "display_name": "Python 3 (ipykernel)",
   "language": "python",
   "name": "python3"
  },
  "language_info": {
   "codemirror_mode": {
    "name": "ipython",
    "version": 3
   },
   "file_extension": ".py",
   "mimetype": "text/x-python",
   "name": "python",
   "nbconvert_exporter": "python",
   "pygments_lexer": "ipython3",
   "version": "3.10.13"
  }
 },
 "nbformat": 4,
 "nbformat_minor": 5
}
